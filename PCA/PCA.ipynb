{
 "cells": [
  {
   "cell_type": "code",
   "execution_count": 33,
   "metadata": {
    "collapsed": true
   },
   "outputs": [],
   "source": [
    "import pandas as pd\n",
    "import numpy as np\n",
    "from pandas_datareader.data import DataReader\n",
    "import talib as ta\n",
    "from ta import add_all_ta_features\n",
    "import yfinance\n",
    "\n",
    "# statistics\n",
    "from statsmodels.tsa.stattools import adfuller\n",
    "\n",
    "# Unsupervised Machin Learning\n",
    "from sklearn.decomposition import PCA\n",
    "\n",
    "# Supervised Machin Learning\n",
    "from sklearn.preprocessing import StandardScaler\n",
    "from sklearn.model_selection import train_test_split\n",
    "from sklearn.ensemble import RandomForestClassifier\n",
    "from sklearn.metrics import accuracy_score\n",
    "from sklearn.metrics import precision_score\n",
    "\n",
    "# Reporting\n",
    "import matplotlib.pyplot as plt"
   ]
  },
  {
   "cell_type": "markdown",
   "source": [
    "### initial data extraction"
   ],
   "metadata": {
    "collapsed": false
   }
  },
  {
   "cell_type": "code",
   "execution_count": 34,
   "outputs": [],
   "source": [
    "# data extraction\n",
    "symbol = \"^VIX\"\n",
    "start_date = \"2017-01-01\"\n",
    "end_date = \"2022-06-01\"\n",
    "ticker = yfinance.Ticker(symbol)\n",
    "df = ticker.history(start=start_date,end=end_date, auto_adjust=True)"
   ],
   "metadata": {
    "collapsed": false
   }
  },
  {
   "cell_type": "code",
   "execution_count": 35,
   "outputs": [
    {
     "data": {
      "text/plain": "                                Open       High        Low      Close  Volume  \\\nDate                                                                            \n2017-01-03 00:00:00-05:00  14.070000  14.070000  12.850000  12.850000       0   \n2017-01-04 00:00:00-05:00  12.780000  12.800000  11.630000  11.850000       0   \n2017-01-05 00:00:00-05:00  11.960000  12.090000  11.400000  11.670000       0   \n2017-01-06 00:00:00-05:00  11.700000  11.740000  10.980000  11.320000       0   \n2017-01-09 00:00:00-05:00  11.710000  12.080000  11.460000  11.560000       0   \n...                              ...        ...        ...        ...     ...   \n2022-05-24 00:00:00-04:00  29.430000  31.070000  29.040001  29.450001       0   \n2022-05-25 00:00:00-04:00  29.330000  30.230000  28.160000  28.370001       0   \n2022-05-26 00:00:00-04:00  28.420000  28.459999  27.110001  27.500000       0   \n2022-05-27 00:00:00-04:00  27.500000  27.540001  25.570000  25.719999       0   \n2022-05-31 00:00:00-04:00  27.469999  28.350000  25.940001  26.190001       0   \n\n                           Dividends  Stock Splits  \nDate                                                \n2017-01-03 00:00:00-05:00          0             0  \n2017-01-04 00:00:00-05:00          0             0  \n2017-01-05 00:00:00-05:00          0             0  \n2017-01-06 00:00:00-05:00          0             0  \n2017-01-09 00:00:00-05:00          0             0  \n...                              ...           ...  \n2022-05-24 00:00:00-04:00          0             0  \n2022-05-25 00:00:00-04:00          0             0  \n2022-05-26 00:00:00-04:00          0             0  \n2022-05-27 00:00:00-04:00          0             0  \n2022-05-31 00:00:00-04:00          0             0  \n\n[1362 rows x 7 columns]",
      "text/html": "<div>\n<style scoped>\n    .dataframe tbody tr th:only-of-type {\n        vertical-align: middle;\n    }\n\n    .dataframe tbody tr th {\n        vertical-align: top;\n    }\n\n    .dataframe thead th {\n        text-align: right;\n    }\n</style>\n<table border=\"1\" class=\"dataframe\">\n  <thead>\n    <tr style=\"text-align: right;\">\n      <th></th>\n      <th>Open</th>\n      <th>High</th>\n      <th>Low</th>\n      <th>Close</th>\n      <th>Volume</th>\n      <th>Dividends</th>\n      <th>Stock Splits</th>\n    </tr>\n    <tr>\n      <th>Date</th>\n      <th></th>\n      <th></th>\n      <th></th>\n      <th></th>\n      <th></th>\n      <th></th>\n      <th></th>\n    </tr>\n  </thead>\n  <tbody>\n    <tr>\n      <th>2017-01-03 00:00:00-05:00</th>\n      <td>14.070000</td>\n      <td>14.070000</td>\n      <td>12.850000</td>\n      <td>12.850000</td>\n      <td>0</td>\n      <td>0</td>\n      <td>0</td>\n    </tr>\n    <tr>\n      <th>2017-01-04 00:00:00-05:00</th>\n      <td>12.780000</td>\n      <td>12.800000</td>\n      <td>11.630000</td>\n      <td>11.850000</td>\n      <td>0</td>\n      <td>0</td>\n      <td>0</td>\n    </tr>\n    <tr>\n      <th>2017-01-05 00:00:00-05:00</th>\n      <td>11.960000</td>\n      <td>12.090000</td>\n      <td>11.400000</td>\n      <td>11.670000</td>\n      <td>0</td>\n      <td>0</td>\n      <td>0</td>\n    </tr>\n    <tr>\n      <th>2017-01-06 00:00:00-05:00</th>\n      <td>11.700000</td>\n      <td>11.740000</td>\n      <td>10.980000</td>\n      <td>11.320000</td>\n      <td>0</td>\n      <td>0</td>\n      <td>0</td>\n    </tr>\n    <tr>\n      <th>2017-01-09 00:00:00-05:00</th>\n      <td>11.710000</td>\n      <td>12.080000</td>\n      <td>11.460000</td>\n      <td>11.560000</td>\n      <td>0</td>\n      <td>0</td>\n      <td>0</td>\n    </tr>\n    <tr>\n      <th>...</th>\n      <td>...</td>\n      <td>...</td>\n      <td>...</td>\n      <td>...</td>\n      <td>...</td>\n      <td>...</td>\n      <td>...</td>\n    </tr>\n    <tr>\n      <th>2022-05-24 00:00:00-04:00</th>\n      <td>29.430000</td>\n      <td>31.070000</td>\n      <td>29.040001</td>\n      <td>29.450001</td>\n      <td>0</td>\n      <td>0</td>\n      <td>0</td>\n    </tr>\n    <tr>\n      <th>2022-05-25 00:00:00-04:00</th>\n      <td>29.330000</td>\n      <td>30.230000</td>\n      <td>28.160000</td>\n      <td>28.370001</td>\n      <td>0</td>\n      <td>0</td>\n      <td>0</td>\n    </tr>\n    <tr>\n      <th>2022-05-26 00:00:00-04:00</th>\n      <td>28.420000</td>\n      <td>28.459999</td>\n      <td>27.110001</td>\n      <td>27.500000</td>\n      <td>0</td>\n      <td>0</td>\n      <td>0</td>\n    </tr>\n    <tr>\n      <th>2022-05-27 00:00:00-04:00</th>\n      <td>27.500000</td>\n      <td>27.540001</td>\n      <td>25.570000</td>\n      <td>25.719999</td>\n      <td>0</td>\n      <td>0</td>\n      <td>0</td>\n    </tr>\n    <tr>\n      <th>2022-05-31 00:00:00-04:00</th>\n      <td>27.469999</td>\n      <td>28.350000</td>\n      <td>25.940001</td>\n      <td>26.190001</td>\n      <td>0</td>\n      <td>0</td>\n      <td>0</td>\n    </tr>\n  </tbody>\n</table>\n<p>1362 rows × 7 columns</p>\n</div>"
     },
     "execution_count": 35,
     "metadata": {},
     "output_type": "execute_result"
    }
   ],
   "source": [
    "df"
   ],
   "metadata": {
    "collapsed": false
   }
  },
  {
   "cell_type": "code",
   "execution_count": 48,
   "outputs": [
    {
     "name": "stderr",
     "output_type": "stream",
     "text": [
      "/Users/ygh/opt/anaconda3/lib/python3.9/site-packages/ta/trend.py:780: RuntimeWarning: invalid value encountered in double_scalars\n",
      "  dip[idx] = 100 * (self._dip[idx] / value)\n",
      "/Users/ygh/opt/anaconda3/lib/python3.9/site-packages/ta/trend.py:785: RuntimeWarning: invalid value encountered in double_scalars\n",
      "  din[idx] = 100 * (self._din[idx] / value)\n"
     ]
    }
   ],
   "source": [
    "df = add_all_ta_features(df, open=\"Open\", high=\"High\", low=\"Low\", close=\"Close\", volume=\"Volume\", fillna=True)"
   ],
   "metadata": {
    "collapsed": false
   }
  },
  {
   "cell_type": "code",
   "execution_count": 50,
   "outputs": [
    {
     "data": {
      "text/plain": "                            Open   High    Low  Close  Volume  Dividends  \\\nDate                                                                       \n2017-01-03 00:00:00-05:00  14.07  14.07  12.85  12.85       0          0   \n2017-01-04 00:00:00-05:00  12.78  12.80  11.63  11.85       0          0   \n2017-01-05 00:00:00-05:00  11.96  12.09  11.40  11.67       0          0   \n2017-01-06 00:00:00-05:00  11.70  11.74  10.98  11.32       0          0   \n2017-01-09 00:00:00-05:00  11.71  12.08  11.46  11.56       0          0   \n\n                           Stock Splits  volume_adi  volume_obv  volume_cmf  \\\nDate                                                                          \n2017-01-03 00:00:00-05:00             0        -0.0           0         0.0   \n2017-01-04 00:00:00-05:00             0        -0.0           0         0.0   \n2017-01-05 00:00:00-05:00             0        -0.0           0         0.0   \n2017-01-06 00:00:00-05:00             0        -0.0           0         0.0   \n2017-01-09 00:00:00-05:00             0        -0.0           0         0.0   \n\n                           ...  momentum_ppo  momentum_ppo_signal  \\\nDate                       ...                                      \n2017-01-03 00:00:00-05:00  ...      0.000000             0.000000   \n2017-01-04 00:00:00-05:00  ...     -0.624394            -0.124879   \n2017-01-05 00:00:00-05:00  ...     -1.226732            -0.345249   \n2017-01-06 00:00:00-05:00  ...     -1.916831            -0.659566   \n2017-01-09 00:00:00-05:00  ...     -2.289756            -0.985604   \n\n                           momentum_ppo_hist  momentum_pvo  \\\nDate                                                         \n2017-01-03 00:00:00-05:00           0.000000           0.0   \n2017-01-04 00:00:00-05:00          -0.499515           0.0   \n2017-01-05 00:00:00-05:00          -0.881483           0.0   \n2017-01-06 00:00:00-05:00          -1.257265           0.0   \n2017-01-09 00:00:00-05:00          -1.304152           0.0   \n\n                           momentum_pvo_signal  momentum_pvo_hist  \\\nDate                                                                \n2017-01-03 00:00:00-05:00                  0.0                0.0   \n2017-01-04 00:00:00-05:00                  0.0                0.0   \n2017-01-05 00:00:00-05:00                  0.0                0.0   \n2017-01-06 00:00:00-05:00                  0.0                0.0   \n2017-01-09 00:00:00-05:00                  0.0                0.0   \n\n                           momentum_kama  others_dr  others_dlr  others_cr  \nDate                                                                        \n2017-01-03 00:00:00-05:00      12.850000 -32.349937    0.000000   0.000000  \n2017-01-04 00:00:00-05:00      12.098375  -7.782101   -8.101594  -7.782101  \n2017-01-05 00:00:00-05:00      11.825780  -1.518990   -1.530645  -9.182881  \n2017-01-06 00:00:00-05:00      11.503803  -2.999146   -3.045041 -11.906620  \n2017-01-09 00:00:00-05:00      11.534477   2.120148    2.097985 -10.038910  \n\n[5 rows x 93 columns]",
      "text/html": "<div>\n<style scoped>\n    .dataframe tbody tr th:only-of-type {\n        vertical-align: middle;\n    }\n\n    .dataframe tbody tr th {\n        vertical-align: top;\n    }\n\n    .dataframe thead th {\n        text-align: right;\n    }\n</style>\n<table border=\"1\" class=\"dataframe\">\n  <thead>\n    <tr style=\"text-align: right;\">\n      <th></th>\n      <th>Open</th>\n      <th>High</th>\n      <th>Low</th>\n      <th>Close</th>\n      <th>Volume</th>\n      <th>Dividends</th>\n      <th>Stock Splits</th>\n      <th>volume_adi</th>\n      <th>volume_obv</th>\n      <th>volume_cmf</th>\n      <th>...</th>\n      <th>momentum_ppo</th>\n      <th>momentum_ppo_signal</th>\n      <th>momentum_ppo_hist</th>\n      <th>momentum_pvo</th>\n      <th>momentum_pvo_signal</th>\n      <th>momentum_pvo_hist</th>\n      <th>momentum_kama</th>\n      <th>others_dr</th>\n      <th>others_dlr</th>\n      <th>others_cr</th>\n    </tr>\n    <tr>\n      <th>Date</th>\n      <th></th>\n      <th></th>\n      <th></th>\n      <th></th>\n      <th></th>\n      <th></th>\n      <th></th>\n      <th></th>\n      <th></th>\n      <th></th>\n      <th></th>\n      <th></th>\n      <th></th>\n      <th></th>\n      <th></th>\n      <th></th>\n      <th></th>\n      <th></th>\n      <th></th>\n      <th></th>\n      <th></th>\n    </tr>\n  </thead>\n  <tbody>\n    <tr>\n      <th>2017-01-03 00:00:00-05:00</th>\n      <td>14.07</td>\n      <td>14.07</td>\n      <td>12.85</td>\n      <td>12.85</td>\n      <td>0</td>\n      <td>0</td>\n      <td>0</td>\n      <td>-0.0</td>\n      <td>0</td>\n      <td>0.0</td>\n      <td>...</td>\n      <td>0.000000</td>\n      <td>0.000000</td>\n      <td>0.000000</td>\n      <td>0.0</td>\n      <td>0.0</td>\n      <td>0.0</td>\n      <td>12.850000</td>\n      <td>-32.349937</td>\n      <td>0.000000</td>\n      <td>0.000000</td>\n    </tr>\n    <tr>\n      <th>2017-01-04 00:00:00-05:00</th>\n      <td>12.78</td>\n      <td>12.80</td>\n      <td>11.63</td>\n      <td>11.85</td>\n      <td>0</td>\n      <td>0</td>\n      <td>0</td>\n      <td>-0.0</td>\n      <td>0</td>\n      <td>0.0</td>\n      <td>...</td>\n      <td>-0.624394</td>\n      <td>-0.124879</td>\n      <td>-0.499515</td>\n      <td>0.0</td>\n      <td>0.0</td>\n      <td>0.0</td>\n      <td>12.098375</td>\n      <td>-7.782101</td>\n      <td>-8.101594</td>\n      <td>-7.782101</td>\n    </tr>\n    <tr>\n      <th>2017-01-05 00:00:00-05:00</th>\n      <td>11.96</td>\n      <td>12.09</td>\n      <td>11.40</td>\n      <td>11.67</td>\n      <td>0</td>\n      <td>0</td>\n      <td>0</td>\n      <td>-0.0</td>\n      <td>0</td>\n      <td>0.0</td>\n      <td>...</td>\n      <td>-1.226732</td>\n      <td>-0.345249</td>\n      <td>-0.881483</td>\n      <td>0.0</td>\n      <td>0.0</td>\n      <td>0.0</td>\n      <td>11.825780</td>\n      <td>-1.518990</td>\n      <td>-1.530645</td>\n      <td>-9.182881</td>\n    </tr>\n    <tr>\n      <th>2017-01-06 00:00:00-05:00</th>\n      <td>11.70</td>\n      <td>11.74</td>\n      <td>10.98</td>\n      <td>11.32</td>\n      <td>0</td>\n      <td>0</td>\n      <td>0</td>\n      <td>-0.0</td>\n      <td>0</td>\n      <td>0.0</td>\n      <td>...</td>\n      <td>-1.916831</td>\n      <td>-0.659566</td>\n      <td>-1.257265</td>\n      <td>0.0</td>\n      <td>0.0</td>\n      <td>0.0</td>\n      <td>11.503803</td>\n      <td>-2.999146</td>\n      <td>-3.045041</td>\n      <td>-11.906620</td>\n    </tr>\n    <tr>\n      <th>2017-01-09 00:00:00-05:00</th>\n      <td>11.71</td>\n      <td>12.08</td>\n      <td>11.46</td>\n      <td>11.56</td>\n      <td>0</td>\n      <td>0</td>\n      <td>0</td>\n      <td>-0.0</td>\n      <td>0</td>\n      <td>0.0</td>\n      <td>...</td>\n      <td>-2.289756</td>\n      <td>-0.985604</td>\n      <td>-1.304152</td>\n      <td>0.0</td>\n      <td>0.0</td>\n      <td>0.0</td>\n      <td>11.534477</td>\n      <td>2.120148</td>\n      <td>2.097985</td>\n      <td>-10.038910</td>\n    </tr>\n  </tbody>\n</table>\n<p>5 rows × 93 columns</p>\n</div>"
     },
     "execution_count": 50,
     "metadata": {},
     "output_type": "execute_result"
    }
   ],
   "source": [
    "df.head()"
   ],
   "metadata": {
    "collapsed": false
   }
  },
  {
   "cell_type": "markdown",
   "source": [
    "### data preprocessing-stationary\n",
    "\n",
    "In mathematics and statistics, a stationary process (or a strict/strictly stationary process or strong/strongly stationary process) is a stochastic process whose unconditional joint probability distribution does not change when shifted in time.Consequently, parameters such as mean and variance also do not change over time. If you draw a line through the middle of a stationary process then it should be flat; it may have 'seasonal' cycles, but overall it does not trend up nor down."
   ],
   "metadata": {
    "collapsed": false
   }
  },
  {
   "cell_type": "code",
   "execution_count": 52,
   "outputs": [
    {
     "name": "stderr",
     "output_type": "stream",
     "text": [
      "/Users/ygh/opt/anaconda3/lib/python3.9/site-packages/statsmodels/regression/linear_model.py:924: RuntimeWarning: divide by zero encountered in log\n",
      "  llf = -nobs2*np.log(2*np.pi) - nobs2*np.log(ssr / nobs) - nobs2\n",
      "/Users/ygh/opt/anaconda3/lib/python3.9/site-packages/statsmodels/regression/linear_model.py:924: RuntimeWarning: divide by zero encountered in log\n",
      "  llf = -nobs2*np.log(2*np.pi) - nobs2*np.log(ssr / nobs) - nobs2\n",
      "/Users/ygh/opt/anaconda3/lib/python3.9/site-packages/statsmodels/regression/linear_model.py:924: RuntimeWarning: divide by zero encountered in log\n",
      "  llf = -nobs2*np.log(2*np.pi) - nobs2*np.log(ssr / nobs) - nobs2\n",
      "/Users/ygh/opt/anaconda3/lib/python3.9/site-packages/statsmodels/regression/linear_model.py:924: RuntimeWarning: divide by zero encountered in log\n",
      "  llf = -nobs2*np.log(2*np.pi) - nobs2*np.log(ssr / nobs) - nobs2\n",
      "/Users/ygh/opt/anaconda3/lib/python3.9/site-packages/statsmodels/regression/linear_model.py:924: RuntimeWarning: divide by zero encountered in log\n",
      "  llf = -nobs2*np.log(2*np.pi) - nobs2*np.log(ssr / nobs) - nobs2\n",
      "/Users/ygh/opt/anaconda3/lib/python3.9/site-packages/statsmodels/regression/linear_model.py:924: RuntimeWarning: divide by zero encountered in log\n",
      "  llf = -nobs2*np.log(2*np.pi) - nobs2*np.log(ssr / nobs) - nobs2\n",
      "/Users/ygh/opt/anaconda3/lib/python3.9/site-packages/statsmodels/regression/linear_model.py:924: RuntimeWarning: divide by zero encountered in log\n",
      "  llf = -nobs2*np.log(2*np.pi) - nobs2*np.log(ssr / nobs) - nobs2\n",
      "/Users/ygh/opt/anaconda3/lib/python3.9/site-packages/statsmodels/regression/linear_model.py:924: RuntimeWarning: divide by zero encountered in log\n",
      "  llf = -nobs2*np.log(2*np.pi) - nobs2*np.log(ssr / nobs) - nobs2\n",
      "/Users/ygh/opt/anaconda3/lib/python3.9/site-packages/statsmodels/regression/linear_model.py:924: RuntimeWarning: divide by zero encountered in log\n",
      "  llf = -nobs2*np.log(2*np.pi) - nobs2*np.log(ssr / nobs) - nobs2\n",
      "/Users/ygh/opt/anaconda3/lib/python3.9/site-packages/statsmodels/regression/linear_model.py:924: RuntimeWarning: divide by zero encountered in log\n",
      "  llf = -nobs2*np.log(2*np.pi) - nobs2*np.log(ssr / nobs) - nobs2\n",
      "/Users/ygh/opt/anaconda3/lib/python3.9/site-packages/statsmodels/regression/linear_model.py:924: RuntimeWarning: divide by zero encountered in log\n",
      "  llf = -nobs2*np.log(2*np.pi) - nobs2*np.log(ssr / nobs) - nobs2\n",
      "/Users/ygh/opt/anaconda3/lib/python3.9/site-packages/statsmodels/regression/linear_model.py:924: RuntimeWarning: divide by zero encountered in log\n",
      "  llf = -nobs2*np.log(2*np.pi) - nobs2*np.log(ssr / nobs) - nobs2\n",
      "/Users/ygh/opt/anaconda3/lib/python3.9/site-packages/statsmodels/regression/linear_model.py:924: RuntimeWarning: divide by zero encountered in log\n",
      "  llf = -nobs2*np.log(2*np.pi) - nobs2*np.log(ssr / nobs) - nobs2\n",
      "/Users/ygh/opt/anaconda3/lib/python3.9/site-packages/statsmodels/regression/linear_model.py:924: RuntimeWarning: divide by zero encountered in log\n",
      "  llf = -nobs2*np.log(2*np.pi) - nobs2*np.log(ssr / nobs) - nobs2\n",
      "/Users/ygh/opt/anaconda3/lib/python3.9/site-packages/statsmodels/regression/linear_model.py:924: RuntimeWarning: divide by zero encountered in log\n",
      "  llf = -nobs2*np.log(2*np.pi) - nobs2*np.log(ssr / nobs) - nobs2\n",
      "/Users/ygh/opt/anaconda3/lib/python3.9/site-packages/statsmodels/regression/linear_model.py:924: RuntimeWarning: divide by zero encountered in log\n",
      "  llf = -nobs2*np.log(2*np.pi) - nobs2*np.log(ssr / nobs) - nobs2\n"
     ]
    },
    {
     "data": {
      "text/plain": "['Volume',\n 'Dividends',\n 'Stock Splits',\n 'volume_adi',\n 'volume_obv',\n 'volume_cmf',\n 'volume_fi',\n 'volume_em',\n 'volume_sma_em',\n 'volume_vpt',\n 'volume_vwap',\n 'volume_mfi',\n 'volume_nvi',\n 'volatility_bbl',\n 'volatility_dcl',\n 'trend_sma_fast',\n 'trend_sma_slow',\n 'trend_ichimoku_b',\n 'trend_visual_ichimoku_b',\n 'momentum_pvo',\n 'momentum_pvo_signal',\n 'momentum_pvo_hist']"
     },
     "execution_count": 52,
     "metadata": {},
     "output_type": "execute_result"
    }
   ],
   "source": [
    "# identify non-stationary columns\n",
    "non_stationary = []\n",
    "for col in df.columns:\n",
    "    dftest = adfuller(df[col].values)\n",
    "    p_value = dftest[1]\n",
    "    t_test = dftest[0] < dftest[4][\"5%\"] # return true/false\n",
    "    if p_value > 0.05 or not t_test:\n",
    "        non_stationary.append(col)\n",
    "non_stationary"
   ],
   "metadata": {
    "collapsed": false
   }
  },
  {
   "cell_type": "code",
   "execution_count": 62,
   "outputs": [],
   "source": [
    "# convert non-stationary to stationary\n",
    "df_stationary = df.copy()\n",
    "df_stationary[non_stationary] = df_stationary[non_stationary].pct_change()\n",
    "df_stationary = df_stationary.iloc[1:]"
   ],
   "metadata": {
    "collapsed": false
   }
  },
  {
   "cell_type": "code",
   "execution_count": 63,
   "outputs": [],
   "source": [
    "# find NaN Rows\n",
    "na_list = df_stationary.columns[df_stationary.isna().any().tolist()]\n",
    "df_stationary.drop(columns=na_list,inplace=True)"
   ],
   "metadata": {
    "collapsed": false
   }
  },
  {
   "cell_type": "code",
   "execution_count": 65,
   "outputs": [],
   "source": [
    "# handle inf values\n",
    "df_stationary.replace([np.inf, -np.inf],0,inplace=True)"
   ],
   "metadata": {
    "collapsed": false
   }
  },
  {
   "cell_type": "markdown",
   "source": [
    "### data preprocessing - scaling and  target setting"
   ],
   "metadata": {
    "collapsed": false
   }
  },
  {
   "cell_type": "code",
   "execution_count": 68,
   "outputs": [],
   "source": [
    "# set target (for supervised ML later on)\n",
    "df_stationary[\"target\"] = -1\n",
    "df_stationary.loc[df_stationary.Close.shift(-1) > df_stationary.Close, \"target\"] = 1\n",
    "df_stationary.dropna(inplace=True)"
   ],
   "metadata": {
    "collapsed": false
   }
  },
  {
   "cell_type": "code",
   "execution_count": 69,
   "outputs": [],
   "source": [
    "# split target from feature set\n",
    "X = df_stationary.iloc[:,:-1]\n",
    "y = df_stationary.iloc[:,-1]"
   ],
   "metadata": {
    "collapsed": false
   }
  },
  {
   "cell_type": "code",
   "execution_count": 71,
   "outputs": [],
   "source": [
    "# feature scaling\n",
    "df_scaled = df_stationary.copy()\n",
    "X_fs = StandardScaler().fit_transform(X)"
   ],
   "metadata": {
    "collapsed": false
   }
  },
  {
   "cell_type": "code",
   "execution_count": 72,
   "outputs": [],
   "source": [
    "# train-test split\n",
    "X_train, X_test, y_train, y_test = train_test_split(X_fs,y, test_size=0.7, random_state=42)"
   ],
   "metadata": {
    "collapsed": false
   }
  },
  {
   "cell_type": "markdown",
   "source": [
    " ### Unsupervised ML - PCA Dimensionality Reduction"
   ],
   "metadata": {
    "collapsed": false
   }
  },
  {
   "cell_type": "code",
   "execution_count": null,
   "outputs": [],
   "source": [],
   "metadata": {
    "collapsed": false
   }
  }
 ],
 "metadata": {
  "kernelspec": {
   "display_name": "Python 3",
   "language": "python",
   "name": "python3"
  },
  "language_info": {
   "codemirror_mode": {
    "name": "ipython",
    "version": 2
   },
   "file_extension": ".py",
   "mimetype": "text/x-python",
   "name": "python",
   "nbconvert_exporter": "python",
   "pygments_lexer": "ipython2",
   "version": "2.7.6"
  }
 },
 "nbformat": 4,
 "nbformat_minor": 0
}
