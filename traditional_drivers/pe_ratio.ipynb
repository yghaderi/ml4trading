{
 "cells": [
  {
   "cell_type": "code",
   "execution_count": 100,
   "metadata": {
    "collapsed": true
   },
   "outputs": [],
   "source": [
    "import pandas as pd\n",
    "import jalali_pandas\n",
    "import numpy as np\n",
    "import psycopg2\n",
    "from dbconfig import NAME, USER, PASSWORD"
   ]
  },
  {
   "cell_type": "code",
   "execution_count": 101,
   "outputs": [],
   "source": [
    "conn_metafid = psycopg2.connect(\n",
    "    database=NAME, user=USER, password=PASSWORD, host='localhost', port='5432'\n",
    ")"
   ],
   "metadata": {
    "collapsed": false
   }
  },
  {
   "cell_type": "code",
   "execution_count": 105,
   "outputs": [],
   "source": [
    "def net_income_query(conn):\n",
    "    cursor = conn.cursor()\n",
    "    cursor.execute(\n",
    "        \"SELECT i.date_id,i.issue_date,i.period,i.symbol_id, t.symbol_far,i.net_income,i.listed_capital FROM fundamentals_incomestatement i left join tsedata_ticker t on t.symbol = i.symbol_id where t.activity_id=5110102011\")\n",
    "    net_income_query_ = cursor.fetchall()\n",
    "    net_income = pd.DataFrame(np.array(net_income_query_),\n",
    "                              columns=[\"date_id\",\"issue_date\",  \"period\", \"symbol_id\",\"symbol_far\", \"net_income\",\"listed_capital\" ])\n",
    "    cursor.close()\n",
    "    return net_income\n",
    "\n",
    "\n",
    "net_income_df = net_income_query(conn_metafid)"
   ],
   "metadata": {
    "collapsed": false
   }
  },
  {
   "cell_type": "code",
   "execution_count": 106,
   "outputs": [
    {
     "name": "stderr",
     "output_type": "stream",
     "text": [
      "/var/folders/w0/18ktbnvn1mzfbp28d98ch3x40000gn/T/ipykernel_3962/3161638710.py:4: FutureWarning: In a future version of pandas, a length 1 tuple will be returned when iterating over a groupby with a grouper equal to a list of length 1. Don't supply a list with a single grouper to avoid this warning.\n",
      "  for name, group in df:\n"
     ]
    },
    {
     "data": {
      "text/plain": "        date_id  issue_date period symbol_id symbol_far net_income  \\\n145  2013-06-21  2013-07-17      1     KRSN1     خراسان    1148725   \n146  2013-09-22  2013-12-16      2     KRSN1     خراسان    1096917   \n147  2013-12-21  2014-01-06      3     KRSN1     خراسان     814465   \n148  2014-03-20  2014-05-10      4     KRSN1     خراسان     884105   \n149  2014-06-21  2014-07-22      1     KRSN1     خراسان    1113094   \n..          ...         ...    ...       ...        ...        ...   \n90   2021-09-22  2021-10-22      2     PSHZ1      شیراز   14336089   \n91   2021-12-21  2022-01-20      3     PSHZ1      شیراز    8107257   \n92   2022-03-20  2022-06-27      4     PSHZ1      شیراز   27782072   \n93   2022-06-21  2022-07-20      1     PSHZ1      شیراز   23647029   \n94   2022-09-22  2022-10-22      2     PSHZ1      شیراز   36691957   \n\n    listed_capital  agg_net_income  \n145        1789912       3571701.0  \n146        1789912       3980262.0  \n147        1789912       4383986.0  \n148        1789912       3944212.0  \n149        1789912       3908581.0  \n..             ...             ...  \n90         5100000      40439633.0  \n91         5100000      36068735.0  \n92         5100000      56727528.0  \n93         5100000      73872447.0  \n94         5100000      96228315.0  \n\n[171 rows x 8 columns]",
      "text/html": "<div>\n<style scoped>\n    .dataframe tbody tr th:only-of-type {\n        vertical-align: middle;\n    }\n\n    .dataframe tbody tr th {\n        vertical-align: top;\n    }\n\n    .dataframe thead th {\n        text-align: right;\n    }\n</style>\n<table border=\"1\" class=\"dataframe\">\n  <thead>\n    <tr style=\"text-align: right;\">\n      <th></th>\n      <th>date_id</th>\n      <th>issue_date</th>\n      <th>period</th>\n      <th>symbol_id</th>\n      <th>symbol_far</th>\n      <th>net_income</th>\n      <th>listed_capital</th>\n      <th>agg_net_income</th>\n    </tr>\n  </thead>\n  <tbody>\n    <tr>\n      <th>145</th>\n      <td>2013-06-21</td>\n      <td>2013-07-17</td>\n      <td>1</td>\n      <td>KRSN1</td>\n      <td>خراسان</td>\n      <td>1148725</td>\n      <td>1789912</td>\n      <td>3571701.0</td>\n    </tr>\n    <tr>\n      <th>146</th>\n      <td>2013-09-22</td>\n      <td>2013-12-16</td>\n      <td>2</td>\n      <td>KRSN1</td>\n      <td>خراسان</td>\n      <td>1096917</td>\n      <td>1789912</td>\n      <td>3980262.0</td>\n    </tr>\n    <tr>\n      <th>147</th>\n      <td>2013-12-21</td>\n      <td>2014-01-06</td>\n      <td>3</td>\n      <td>KRSN1</td>\n      <td>خراسان</td>\n      <td>814465</td>\n      <td>1789912</td>\n      <td>4383986.0</td>\n    </tr>\n    <tr>\n      <th>148</th>\n      <td>2014-03-20</td>\n      <td>2014-05-10</td>\n      <td>4</td>\n      <td>KRSN1</td>\n      <td>خراسان</td>\n      <td>884105</td>\n      <td>1789912</td>\n      <td>3944212.0</td>\n    </tr>\n    <tr>\n      <th>149</th>\n      <td>2014-06-21</td>\n      <td>2014-07-22</td>\n      <td>1</td>\n      <td>KRSN1</td>\n      <td>خراسان</td>\n      <td>1113094</td>\n      <td>1789912</td>\n      <td>3908581.0</td>\n    </tr>\n    <tr>\n      <th>...</th>\n      <td>...</td>\n      <td>...</td>\n      <td>...</td>\n      <td>...</td>\n      <td>...</td>\n      <td>...</td>\n      <td>...</td>\n      <td>...</td>\n    </tr>\n    <tr>\n      <th>90</th>\n      <td>2021-09-22</td>\n      <td>2021-10-22</td>\n      <td>2</td>\n      <td>PSHZ1</td>\n      <td>شیراز</td>\n      <td>14336089</td>\n      <td>5100000</td>\n      <td>40439633.0</td>\n    </tr>\n    <tr>\n      <th>91</th>\n      <td>2021-12-21</td>\n      <td>2022-01-20</td>\n      <td>3</td>\n      <td>PSHZ1</td>\n      <td>شیراز</td>\n      <td>8107257</td>\n      <td>5100000</td>\n      <td>36068735.0</td>\n    </tr>\n    <tr>\n      <th>92</th>\n      <td>2022-03-20</td>\n      <td>2022-06-27</td>\n      <td>4</td>\n      <td>PSHZ1</td>\n      <td>شیراز</td>\n      <td>27782072</td>\n      <td>5100000</td>\n      <td>56727528.0</td>\n    </tr>\n    <tr>\n      <th>93</th>\n      <td>2022-06-21</td>\n      <td>2022-07-20</td>\n      <td>1</td>\n      <td>PSHZ1</td>\n      <td>شیراز</td>\n      <td>23647029</td>\n      <td>5100000</td>\n      <td>73872447.0</td>\n    </tr>\n    <tr>\n      <th>94</th>\n      <td>2022-09-22</td>\n      <td>2022-10-22</td>\n      <td>2</td>\n      <td>PSHZ1</td>\n      <td>شیراز</td>\n      <td>36691957</td>\n      <td>5100000</td>\n      <td>96228315.0</td>\n    </tr>\n  </tbody>\n</table>\n<p>171 rows × 8 columns</p>\n</div>"
     },
     "execution_count": 106,
     "metadata": {},
     "output_type": "execute_result"
    }
   ],
   "source": [
    "def agg_net_income(df):\n",
    "    df = df.groupby(by=[\"symbol_id\"])\n",
    "    agg_net_income_ = pd.DataFrame()\n",
    "    for name, group in df:\n",
    "        group[\"agg_net_income\"] = group[\"net_income\"].rolling(4).sum()\n",
    "        agg_net_income_ = pd.concat([agg_net_income_, group])\n",
    "    agg_net_income_ = agg_net_income_[agg_net_income_[\"agg_net_income\"].notnull()]\n",
    "    return agg_net_income_\n",
    "\n",
    "\n",
    "agg_net_income_df = agg_net_income(net_income_df)\n",
    "agg_net_income_df"
   ],
   "metadata": {
    "collapsed": false
   }
  },
  {
   "cell_type": "code",
   "execution_count": 104,
   "outputs": [],
   "source": [
    "def shares_hist_query(conn):\n",
    "    cursor = conn.cursor()\n",
    "    cursor.execute(\n",
    "        \"SELECT s.date_id,i.symbol_id,i.issue_date,i.period,i.net_income , t.symbol_far FROM fundamentals_shareshist s left join tsedata_ticker t on t.symbol = i.symbol_id where t.activity_id=5110102011\")\n",
    "    net_income_query_ = cursor.fetchall()\n",
    "    net_income = pd.DataFrame(np.array(net_income_query_),\n",
    "                              columns=[\"date_id\", \"symbol_id\", \"issue_date\", \"period\", \"net_income\", \"symbol_far\"])\n",
    "    cursor.close()\n",
    "    return net_income\n",
    "\n",
    "\n",
    "net_income_df = net_income_query(conn_metafid)"
   ],
   "metadata": {
    "collapsed": false
   }
  },
  {
   "cell_type": "code",
   "execution_count": 104,
   "outputs": [],
   "source": [],
   "metadata": {
    "collapsed": false
   }
  },
  {
   "cell_type": "code",
   "execution_count": 104,
   "outputs": [],
   "source": [],
   "metadata": {
    "collapsed": false
   }
  }
 ],
 "metadata": {
  "kernelspec": {
   "display_name": "Python 3",
   "language": "python",
   "name": "python3"
  },
  "language_info": {
   "codemirror_mode": {
    "name": "ipython",
    "version": 2
   },
   "file_extension": ".py",
   "mimetype": "text/x-python",
   "name": "python",
   "nbconvert_exporter": "python",
   "pygments_lexer": "ipython2",
   "version": "2.7.6"
  }
 },
 "nbformat": 4,
 "nbformat_minor": 0
}
